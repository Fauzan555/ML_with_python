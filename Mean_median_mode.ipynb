{
 "cells": [
  {
   "cell_type": "code",
   "execution_count": 1,
   "metadata": {},
   "outputs": [
    {
     "name": "stdout",
     "output_type": "stream",
     "text": [
      "36.0\n"
     ]
    }
   ],
   "source": [
    "def calculate_mean(data):\n",
    "    mean=sum(data)/len(data)\n",
    "    return mean\n",
    "\n",
    "data_set=[10,15,20,30,85,56]\n",
    "mean_result=calculate_mean(data_set)\n",
    "print(mean_result)"
   ]
  },
  {
   "cell_type": "code",
   "execution_count": 5,
   "metadata": {},
   "outputs": [
    {
     "name": "stdout",
     "output_type": "stream",
     "text": [
      "30\n"
     ]
    }
   ],
   "source": [
    "def calculate_median(data):\n",
    "    data.sort()\n",
    "    n=len(data)\n",
    "    mid=n//2\n",
    "\n",
    "    if n%2==0:\n",
    "        median=(data[mid-1]+data[mid])/2\n",
    "    else:\n",
    "        median=data[mid]\n",
    "    return median\n",
    "    \n",
    "\n",
    "data_set=[10,15,20,30,85,56,78]\n",
    "median_result=calculate_median(data_set)\n",
    "print(median_result)"
   ]
  }
 ],
 "metadata": {
  "kernelspec": {
   "display_name": "base",
   "language": "python",
   "name": "python3"
  },
  "language_info": {
   "codemirror_mode": {
    "name": "ipython",
    "version": 3
   },
   "file_extension": ".py",
   "mimetype": "text/x-python",
   "name": "python",
   "nbconvert_exporter": "python",
   "pygments_lexer": "ipython3",
   "version": "3.12.9"
  }
 },
 "nbformat": 4,
 "nbformat_minor": 2
}
