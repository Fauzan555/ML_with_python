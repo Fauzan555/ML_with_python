{
 "cells": [
  {
   "cell_type": "markdown",
   "metadata": {},
   "source": [
    "# Mean median mode"
   ]
  },
  {
   "cell_type": "code",
   "execution_count": 13,
   "metadata": {},
   "outputs": [
    {
     "name": "stdout",
     "output_type": "stream",
     "text": [
      "36.0\n"
     ]
    }
   ],
   "source": [
    "def calculate_mean(data):\n",
    "    mean=sum(data)/len(data)\n",
    "    return mean\n",
    "\n",
    "data_set=[10,15,20,30,85,56]\n",
    "mean_result=calculate_mean(data_set)\n",
    "print(mean_result)"
   ]
  },
  {
   "cell_type": "code",
   "execution_count": 14,
   "metadata": {},
   "outputs": [
    {
     "name": "stdout",
     "output_type": "stream",
     "text": [
      "30\n"
     ]
    }
   ],
   "source": [
    "def calculate_median(data):\n",
    "    data.sort()\n",
    "    n=len(data)\n",
    "    mid=n//2\n",
    "\n",
    "    if n%2==0:\n",
    "        median=(data[mid-1]+data[mid])/2\n",
    "    else:\n",
    "        median=data[mid]\n",
    "    return median\n",
    "    \n",
    "\n",
    "data_set=[10,15,20,30,85,56,78]\n",
    "median_result=calculate_median(data_set)\n",
    "print(median_result)"
   ]
  },
  {
   "cell_type": "code",
   "execution_count": 15,
   "metadata": {},
   "outputs": [],
   "source": [
    "from statistics import mode\n"
   ]
  },
  {
   "cell_type": "code",
   "execution_count": 16,
   "metadata": {},
   "outputs": [
    {
     "name": "stdout",
     "output_type": "stream",
     "text": [
      "30\n"
     ]
    }
   ],
   "source": [
    "data_set=[10,15,20,30,30,85,56,78]\n",
    "mode_result=mode(data_set)\n",
    "print(mode_result)"
   ]
  },
  {
   "cell_type": "markdown",
   "metadata": {},
   "source": [
    "# Percentile"
   ]
  },
  {
   "cell_type": "markdown",
   "metadata": {},
   "source": []
  },
  {
   "cell_type": "code",
   "execution_count": 17,
   "metadata": {},
   "outputs": [],
   "source": [
    "import numpy as np"
   ]
  },
  {
   "cell_type": "code",
   "execution_count": 21,
   "metadata": {},
   "outputs": [
    {
     "name": "stdout",
     "output_type": "stream",
     "text": [
      "75th percentile : 25.0\n",
      "50th percentile : 20.0\n"
     ]
    }
   ],
   "source": [
    "def calculate_percentile(data,percentile):\n",
    "    return np.percentile(data,percentile)\n",
    "\n",
    "data_set_1=[10,15,20,25,30]\n",
    "percentile_result_1=calculate_percentile(data_set_1,percentile=75)\n",
    "print(\"75th percentile :\",percentile_result_1)\n",
    "\n",
    "data_set_2=[10,15,20,25,30]\n",
    "percentile_result_2=calculate_percentile(data_set_2,percentile=50)\n",
    "print(\"50th percentile :\",percentile_result_2)\n",
    "\n"
   ]
  },
  {
   "cell_type": "markdown",
   "metadata": {},
   "source": [
    "# Data distribution"
   ]
  },
  {
   "cell_type": "code",
   "execution_count": 23,
   "metadata": {},
   "outputs": [],
   "source": [
    "import numpy as np\n",
    "import matplotlib.pyplot as plt"
   ]
  },
  {
   "cell_type": "code",
   "execution_count": 25,
   "metadata": {},
   "outputs": [
    {
     "data": {
      "image/png": "[encoded data removed]",
      "text/plain": [
       "<Figure size 640x480 with 1 Axes>"
      ]
     },
     "metadata": {},
     "output_type": "display_data"
    }
   ],
   "source": [
    "data_distribution=np.random.normal(loc=50,scale=10,size=1000)\n",
    "plt.hist(data_distribution,bins=30,edgecolor='black')\n",
    "plt.title('histogram-data distribution')\n",
    "plt.xlabel('values')\n",
    "plt.ylabel('frequency')\n",
    "plt.show()"
   ]
  },
  {
   "cell_type": "code",
   "execution_count": null,
   "metadata": {},
   "outputs": [],
   "source": []
  }
 ],
 "metadata": {
  "kernelspec": {
   "display_name": "base",
   "language": "python",
   "name": "python3"
  },
  "language_info": {
   "codemirror_mode": {
    "name": "ipython",
    "version": 3
   },
   "file_extension": ".py",
   "mimetype": "text/x-python",
   "name": "python",
   "nbconvert_exporter": "python",
   "pygments_lexer": "ipython3",
   "version": "3.12.9"
  }
 },
 "nbformat": 4,
 "nbformat_minor": 2
}
